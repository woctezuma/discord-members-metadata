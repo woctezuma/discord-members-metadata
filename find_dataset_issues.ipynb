{
  "nbformat": 4,
  "nbformat_minor": 0,
  "metadata": {
    "colab": {
      "private_outputs": true,
      "provenance": [],
      "collapsed_sections": [
        "AOetn6xSNb68",
        "RMgR2SgkNmDC",
        "eEUVaQ5eNpop",
        "selSm7qTNaHa",
        "WQgZAjwSrrk3"
      ]
    },
    "kernelspec": {
      "name": "python3",
      "display_name": "Python 3"
    },
    "language_info": {
      "name": "python"
    }
  },
  "cells": [
    {
      "cell_type": "markdown",
      "source": [
        "# Find issues in the image dataset\n",
        "\n",
        "- https://github.com/woctezuma/steam-DINOv2#filtering-optional"
      ],
      "metadata": {
        "id": "QAF5wev8M7fk"
      }
    },
    {
      "cell_type": "markdown",
      "source": [
        "## Install packages"
      ],
      "metadata": {
        "id": "AOetn6xSNb68"
      }
    },
    {
      "cell_type": "code",
      "source": [
        "%pip install --quiet cleanvision"
      ],
      "metadata": {
        "id": "WO4lkfdaNJkk"
      },
      "execution_count": null,
      "outputs": []
    },
    {
      "cell_type": "markdown",
      "source": [
        "## Download the image dataset"
      ],
      "metadata": {
        "id": "RMgR2SgkNmDC"
      }
    },
    {
      "cell_type": "code",
      "source": [
        "%cd /content\n",
        "\n",
        "for i in range(1, 3):\n",
        "  fname = f\"img_{i}.zip\"\n",
        "\n",
        "  !curl -OL https://github.com/woctezuma/discord-members-metadata/releases/download/img/{fname}\n",
        "  !unzip -qq {fname}"
      ],
      "metadata": {
        "id": "SL7A0j_WNhnm"
      },
      "execution_count": null,
      "outputs": []
    },
    {
      "cell_type": "markdown",
      "source": [
        "## Apply `cleanvision`\n",
        "\n",
        "- https://github.com/cleanlab/cleanvision"
      ],
      "metadata": {
        "id": "eEUVaQ5eNpop"
      }
    },
    {
      "cell_type": "code",
      "execution_count": null,
      "metadata": {
        "id": "oXqBG5bJMv-0"
      },
      "outputs": [],
      "source": [
        "from cleanvision import Imagelab\n",
        "\n",
        "DATASET_PATH = \"img/\"\n",
        "SAVE_PATH = \"results\""
      ]
    },
    {
      "cell_type": "markdown",
      "source": [
        "### Find issues"
      ],
      "metadata": {
        "id": "selSm7qTNaHa"
      }
    },
    {
      "cell_type": "code",
      "source": [
        "find_issues_from_scratch = False\n",
        "\n",
        "if find_issues_from_scratch:\n",
        "  imagelab = Imagelab(data_path=DATASET_PATH)\n",
        "  imagelab.find_issues()\n",
        "  imagelab.save(SAVE_PATH)"
      ],
      "metadata": {
        "id": "KYxL8RFwNEKW"
      },
      "execution_count": null,
      "outputs": []
    },
    {
      "cell_type": "code",
      "source": [
        "fname = \"cleanvision.zip\"\n",
        "\n",
        "%cd /content\n",
        "\n",
        "if find_issues_from_scratch:\n",
        "  !zip -qq -r {fname} {SAVE_PATH}\n",
        "else:\n",
        "  !curl -OL https://github.com/woctezuma/discord-members-metadata/releases/download/img/{fname}\n",
        "  !unzip -qq {fname}"
      ],
      "metadata": {
        "id": "GszDZpFJA2qQ"
      },
      "execution_count": null,
      "outputs": []
    },
    {
      "cell_type": "markdown",
      "source": [
        "### Report"
      ],
      "metadata": {
        "id": "B7PXkP-UNYrd"
      }
    },
    {
      "cell_type": "code",
      "source": [
        "imagelab = Imagelab.load(SAVE_PATH, DATASET_PATH)\n",
        "imagelab.report()"
      ],
      "metadata": {
        "id": "lXTwXgeiNFci"
      },
      "execution_count": null,
      "outputs": []
    },
    {
      "cell_type": "markdown",
      "source": [
        "## Analyze results"
      ],
      "metadata": {
        "id": "B3MGXKWq2sdV"
      }
    },
    {
      "cell_type": "markdown",
      "source": [
        "### Define utility functions"
      ],
      "metadata": {
        "id": "WQgZAjwSrrk3"
      }
    },
    {
      "cell_type": "code",
      "source": [
        "import json\n",
        "\n",
        "from pathlib import Path\n",
        "\n",
        "def save_to_json(data, fname):\n",
        "  with Path(fname).open('w') as f:\n",
        "    json.dump(data, f, indent=True)\n",
        "\n",
        "def load_from_json(fname):\n",
        "  with Path(fname).open() as f:\n",
        "    data = json.load(f)\n",
        "  return data"
      ],
      "metadata": {
        "id": "Fpe2ymwernbI"
      },
      "execution_count": null,
      "outputs": []
    },
    {
      "cell_type": "code",
      "source": [
        "IMAGE_SUFFIX = \".jpg\"\n",
        "\n",
        "def to_image_index(image_name,\n",
        "                   image_suffix=IMAGE_SUFFIX):\n",
        "    index_as_str = Path(image_name).name.removesuffix(image_suffix)\n",
        "    return int(index_as_str)\n",
        "\n",
        "def convert_list_to_image_indices(l, image_suffix=IMAGE_SUFFIX):\n",
        "  return sorted([to_image_index(fname, image_suffix) for fname in l])\n",
        "\n",
        "def convert_nested_lists_to_image_indices(nested_lists,\n",
        "                                          image_suffix=IMAGE_SUFFIX):\n",
        "  return [ convert_list_to_image_indices(l, image_suffix) for l in nested_lists ]"
      ],
      "metadata": {
        "id": "Hhz61AHErlpb"
      },
      "execution_count": null,
      "outputs": []
    },
    {
      "cell_type": "markdown",
      "source": [
        "### Summary\n",
        "\n",
        "> Dataframe with **global summary** of all issue types detected in your dataset and the overall prevalence of each type.\n",
        ">\n",
        "> Reference:\n",
        "> - https://cleanvision.readthedocs.io/en/latest/tutorials/tutorial.html#imagelab.issue_summary"
      ],
      "metadata": {
        "id": "SivO3JwI_j8X"
      }
    },
    {
      "cell_type": "code",
      "source": [
        "imagelab.issue_summary"
      ],
      "metadata": {
        "id": "m29cL9VZ2rf7"
      },
      "execution_count": null,
      "outputs": []
    },
    {
      "cell_type": "markdown",
      "source": [
        "### Table\n",
        "\n",
        "> DataFrame **assessing each image** in your dataset, reporting which issues each image exhibits and a score (between 0 and 1):\n",
        "> - a boolean column per issue type shows whether each image exhibits this issue type.\n",
        "> - a numeric column assesses the issue severity in each image, where lower values indicate more severe cases.\n",
        ">\n",
        "> Reference:\n",
        "> - https://cleanvision.readthedocs.io/en/latest/tutorials/tutorial.html#imagelab.issues"
      ],
      "metadata": {
        "id": "G31iAMvV_pxe"
      }
    },
    {
      "cell_type": "markdown",
      "source": [
        "#### List images with at least one issue"
      ],
      "metadata": {
        "id": "oHAIzzaprzrm"
      }
    },
    {
      "cell_type": "code",
      "source": [
        "BOOL_PREFIX = \"is_\"\n",
        "SUFFIX_TO_SKIP = \"_duplicates_issue\"\n",
        "\n",
        "# Reference: https://stackoverflow.com/a/19483025/376454\n",
        "bool_headers = [\n",
        "    header for header in list(imagelab.issues)\n",
        "    if header.startswith(BOOL_PREFIX) and not header.endswith(SUFFIX_TO_SKIP)\n",
        "    ]\n",
        "\n",
        "print('Boolean columns:')\n",
        "print('- ' + '\\n- '.join(bool_headers))\n",
        "\n",
        "detailed_data = {}\n",
        "for header in bool_headers:\n",
        "  selected_images = imagelab.issues[imagelab.issues[header]]\n",
        "  selected_image_files = selected_images.index.tolist()\n",
        "  detailed_data[header] = convert_list_to_image_indices(selected_image_files)"
      ],
      "metadata": {
        "id": "Wy-9ipDjpXac"
      },
      "execution_count": null,
      "outputs": []
    },
    {
      "cell_type": "markdown",
      "source": [
        "#### Export to JSON"
      ],
      "metadata": {
        "id": "3zoiBWWlryyB"
      }
    },
    {
      "cell_type": "code",
      "source": [
        "fname = 'cleanvision_detailed_issues.json'\n",
        "save_to_json(detailed_data, fname)"
      ],
      "metadata": {
        "id": "IieC3WfP5gvc"
      },
      "execution_count": null,
      "outputs": []
    },
    {
      "cell_type": "markdown",
      "source": [
        "### Duplicate sets\n",
        "\n",
        "> `imagelab.info` can be used to retrieve **which images** are near or exact duplicates of each other.\n",
        ">\n",
        "> References:\n",
        "> - https://cleanvision.readthedocs.io/en/latest/tutorials/tutorial.html#imagelab.info\n",
        "> - https://cleanvision.readthedocs.io/en/latest/tutorials/tutorial.html#Duplicate-sets"
      ],
      "metadata": {
        "id": "22mifWGC_5yH"
      }
    },
    {
      "cell_type": "markdown",
      "source": [
        "#### Count duplicate sets"
      ],
      "metadata": {
        "id": "eH5LQM3WkOnV"
      }
    },
    {
      "cell_type": "code",
      "source": [
        "exact_duplicates = convert_nested_lists_to_image_indices(imagelab.info['exact_duplicates']['sets'])\n",
        "print(f\"[exact duplicates] #sets = {len(exact_duplicates)}\")\n",
        "\n",
        "near_duplicates = convert_nested_lists_to_image_indices(imagelab.info['near_duplicates']['sets'])\n",
        "print(f\"[near duplicates] #sets = {len(near_duplicates)}\")"
      ],
      "metadata": {
        "id": "IKz7BsH93zhy"
      },
      "execution_count": null,
      "outputs": []
    },
    {
      "cell_type": "markdown",
      "source": [
        "#### Export to JSON"
      ],
      "metadata": {
        "id": "NQb4b7pbkIlF"
      }
    },
    {
      "cell_type": "code",
      "source": [
        "for field in ['exact_duplicates', 'near_duplicates']:\n",
        "  fname = f'cleanvision_{field}.json'\n",
        "  data = convert_nested_lists_to_image_indices(imagelab.info[field]['sets'])\n",
        "  save_to_json(data, fname)"
      ],
      "metadata": {
        "id": "Vji-0HGPjFVi"
      },
      "execution_count": null,
      "outputs": []
    },
    {
      "cell_type": "markdown",
      "source": [
        "### Show a representative of each set"
      ],
      "metadata": {
        "id": "Iee18ovWIZl2"
      }
    },
    {
      "cell_type": "code",
      "source": [
        "%pip install --quiet mediapy"
      ],
      "metadata": {
        "id": "rhP1whUnINlV"
      },
      "execution_count": null,
      "outputs": []
    },
    {
      "cell_type": "code",
      "source": [
        "import mediapy as media\n",
        "\n",
        "DISPLAY_THRESHOLD = 2\n",
        "IMG_SIZE = (128, 128)\n",
        "\n",
        "def show_representatives(\n",
        "    list_of_sets,\n",
        "    display_threshold = DISPLAY_THRESHOLD,\n",
        "    img_size = IMG_SIZE,\n",
        "    ):\n",
        "  for l in sorted(list_of_sets, key=lambda x: len(x), reverse=True):\n",
        "    num_duplicates = len(l)\n",
        "\n",
        "    if num_duplicates < display_threshold:\n",
        "      break\n",
        "\n",
        "    member_id = str(l[0])\n",
        "    image_path = f\"img/{member_id[0]}/{member_id}.jpg\"\n",
        "    image = media.read_image(image_path)\n",
        "\n",
        "    image = media.resize_image(image, img_size)\n",
        "\n",
        "    print(f\"{member_id} (#images={num_duplicates})\")\n",
        "    media.show_image(image)"
      ],
      "metadata": {
        "id": "hc6WM0yoIBof"
      },
      "execution_count": null,
      "outputs": []
    },
    {
      "cell_type": "code",
      "source": [
        "show_representatives(exact_duplicates, display_threshold=2)"
      ],
      "metadata": {
        "id": "KxSGO_tGLic2"
      },
      "execution_count": null,
      "outputs": []
    },
    {
      "cell_type": "code",
      "source": [
        "show_representatives(near_duplicates, display_threshold=2)"
      ],
      "metadata": {
        "id": "9DHIwe0eLkkq"
      },
      "execution_count": null,
      "outputs": []
    }
  ]
}