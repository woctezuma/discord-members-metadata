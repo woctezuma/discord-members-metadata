{
  "nbformat": 4,
  "nbformat_minor": 0,
  "metadata": {
    "colab": {
      "provenance": [],
      "private_outputs": true
    },
    "kernelspec": {
      "name": "python3",
      "display_name": "Python 3"
    },
    "language_info": {
      "name": "python"
    }
  },
  "cells": [
    {
      "cell_type": "markdown",
      "source": [
        "# Scrape Discord\n",
        "\n",
        "References:\n",
        "- https://github.com/woctezuma/DiscordScraper\n",
        "- https://github.com/woctezuma/discord-members-metadata"
      ],
      "metadata": {
        "id": "xux0Eri70c6x"
      }
    },
    {
      "cell_type": "markdown",
      "source": [
        "## Installation"
      ],
      "metadata": {
        "id": "bmtsYVpGwia-"
      }
    },
    {
      "cell_type": "code",
      "execution_count": null,
      "metadata": {
        "id": "lTnJz41Le6b5"
      },
      "outputs": [],
      "source": [
        "%cd /content\n",
        "!git clone https://github.com/woctezuma/DiscordScraper.git --branch patch --single-branch\n",
        "%cd /content/DiscordScraper\n",
        "%pip install -qq -r requirements.txt\n",
        "\n",
        "# https://github.com/dolfies/discord.py-self/pull/618\n",
        "%pip install -qq git+https://github.com/pc111c/discord.py-self.git@patch-1"
      ]
    },
    {
      "cell_type": "markdown",
      "source": [
        "## Secrets"
      ],
      "metadata": {
        "id": "gFoeO43SwkPA"
      }
    },
    {
      "cell_type": "code",
      "source": [
        "import json\n",
        "\n",
        "data = {\n",
        "  \"token\": \"MY_TOKEN\", # TODO\n",
        "  \"guild_id\": 0, # TODO\n",
        "  \"pfp_format\": \"png\",\n",
        "  \"purge_old_data\": False,\n",
        "  \"download_bio\": True,\n",
        "  \"download_pfp\": False,\n",
        "  \"channel_id\": 0 # TODO\n",
        "}\n",
        "\n",
        "with open('config.json', 'w') as f:\n",
        "  json.dump(data, f, indent=2)"
      ],
      "metadata": {
        "id": "xPBaBQDb1CRO"
      },
      "execution_count": null,
      "outputs": []
    },
    {
      "cell_type": "markdown",
      "source": [
        "## Import data"
      ],
      "metadata": {
        "id": "k0kPIEqXwnkQ"
      }
    },
    {
      "cell_type": "code",
      "source": [
        "GUILD = \"MY_GUILD\" # TODO\n",
        "FNAME = f\"{GUILD}.txt.zip\""
      ],
      "metadata": {
        "id": "oiN_xwl2xXc7"
      },
      "execution_count": null,
      "outputs": []
    },
    {
      "cell_type": "code",
      "source": [
        "%cd /content/DiscordScraper\n",
        "%mkdir -p DataScraped\n",
        "\n",
        "%cd /content/DiscordScraper/DataScraped\n",
        "%cp /content/drive/MyDrive/Discord/{FNAME} .\n",
        "!unzip -qq -o {FNAME}\n",
        "\n",
        "!ls {GUILD}/*.txt | wc -l"
      ],
      "metadata": {
        "id": "RwESYN5BoSyc"
      },
      "execution_count": null,
      "outputs": []
    },
    {
      "cell_type": "markdown",
      "source": [
        "## Run"
      ],
      "metadata": {
        "id": "-mJuci_uwpl_"
      }
    },
    {
      "cell_type": "code",
      "source": [
        "%cd /content/DiscordScraper\n",
        "!python main.py"
      ],
      "metadata": {
        "id": "Lb8AaSxb11r8"
      },
      "execution_count": null,
      "outputs": []
    },
    {
      "cell_type": "markdown",
      "source": [
        "## Export data"
      ],
      "metadata": {
        "id": "Sq6myt3uwtwe"
      }
    },
    {
      "cell_type": "code",
      "source": [
        "%cd /content/DiscordScraper/DataScraped\n",
        "%rm {GUILD}/members.json\n",
        "!zip -qq -r {FNAME} {GUILD}\n",
        "%cp {FNAME} /content/drive/MyDrive/Discord/\n",
        "\n",
        "!ls {GUILD}/*.txt | wc -l"
      ],
      "metadata": {
        "id": "C2IEQ8Z0pl89"
      },
      "execution_count": null,
      "outputs": []
    },
    {
      "cell_type": "markdown",
      "source": [
        "## Aggregate TXT data into a single JSON file"
      ],
      "metadata": {
        "id": "nJZHLhs36vtU"
      }
    },
    {
      "cell_type": "code",
      "source": [
        "# Reference: https://github.com/woctezuma/DiscordScraper/blob/49b73e26532e2db8d4b0d550b2e2f3b4533b6ece/internal/utils.py#L161-L164\n",
        "PATTERN_START = \"\\nBio: \"\n",
        "PATTERN_END = \"\\nDiscriminator: #\"\n",
        "DUMMY_BIO = \"User doesn't have a bio.\"\n",
        "\n",
        "def extract_bio(text, verbose=False):\n",
        "  bio_start = text.find(PATTERN_START) + len(PATTERN_START)\n",
        "  bio_end = text.find(PATTERN_END)\n",
        "\n",
        "  bio = text[bio_start:bio_end].strip()\n",
        "\n",
        "  if bio == DUMMY_BIO:\n",
        "    bio = None\n",
        "\n",
        "  if bio and verbose:\n",
        "    print(f\"{fname}\\n{bio}\")\n",
        "\n",
        "  return bio"
      ],
      "metadata": {
        "id": "MP5RWBxr9Jd8"
      },
      "execution_count": null,
      "outputs": []
    },
    {
      "cell_type": "code",
      "source": [
        "from glob import glob\n",
        "from pathlib import Path\n",
        "\n",
        "def read_bios_from_text_files(folder_name):\n",
        "  d = {}\n",
        "\n",
        "  for fname in glob(f\"{folder_name}/*.txt\"):\n",
        "    member_id = Path(fname).stem\n",
        "\n",
        "    text = Path(fname).read_text(encoding='utf8')\n",
        "    bio = extract_bio(text)\n",
        "\n",
        "    if bio:\n",
        "      d[member_id] = bio\n",
        "\n",
        "  return d"
      ],
      "metadata": {
        "id": "BYbteJwY-iDx"
      },
      "execution_count": null,
      "outputs": []
    },
    {
      "cell_type": "code",
      "source": [
        "import json\n",
        "\n",
        "bios = read_bios_from_text_files(GUILD)\n",
        "\n",
        "with open('bios.json', 'w') as f:\n",
        "  json.dump(bios, f, indent=2, sort_keys=True)"
      ],
      "metadata": {
        "id": "N1ReyaGF6s54"
      },
      "execution_count": null,
      "outputs": []
    }
  ]
}