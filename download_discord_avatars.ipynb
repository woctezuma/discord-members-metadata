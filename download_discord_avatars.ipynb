{
  "nbformat": 4,
  "nbformat_minor": 0,
  "metadata": {
    "colab": {
      "private_outputs": true,
      "provenance": [],
      "collapsed_sections": [
        "PZ0K231ciNp4",
        "2x-TZFyBrPY7",
        "dEdQxRfhrRS8",
        "kYfwUprUGxGr",
        "-4G6W27uZvBF"
      ],
      "gpuType": "T4"
    },
    "kernelspec": {
      "name": "python3",
      "display_name": "Python 3"
    },
    "language_info": {
      "name": "python"
    },
    "accelerator": "GPU"
  },
  "cells": [
    {
      "cell_type": "markdown",
      "source": [
        "# Download Discord avatars\n",
        "\n",
        "References:\n",
        "- https://github.com/rom1504/img2dataset\n",
        "- https://github.com/woctezuma/DiscordScraper\n",
        "- https://github.com/woctezuma/discord-members-metadata"
      ],
      "metadata": {
        "id": "DXMeGocnrBFu"
      }
    },
    {
      "cell_type": "markdown",
      "source": [
        "## Installation"
      ],
      "metadata": {
        "id": "PZ0K231ciNp4"
      }
    },
    {
      "cell_type": "code",
      "source": [
        "%pip install -q mediapy"
      ],
      "metadata": {
        "id": "rG2ohlCviQWt"
      },
      "execution_count": null,
      "outputs": []
    },
    {
      "cell_type": "code",
      "source": [
        "%pip install -qq --ignore-installed clip-retrieval"
      ],
      "metadata": {
        "id": "uhMGK7TKiZDX"
      },
      "execution_count": null,
      "outputs": []
    },
    {
      "cell_type": "markdown",
      "source": [
        "## Constants"
      ],
      "metadata": {
        "id": "xqA4QvelHJNv"
      }
    },
    {
      "cell_type": "code",
      "source": [
        "IMAGE_SIZE = 512\n",
        "FILE_EXT = \".jpg\"\n",
        "IMAGE_FOLDER = \"images/\"\n",
        "\n",
        "URL_LIST_FNAME = \"avatars.txt\"\n",
        "EMBEDDING_FOLDER = \"embeddings/\"\n",
        "INDEX_FOLDER = \"indices/\"\n",
        "RESULT_FOLDER = \"results/\"\n",
        "\n",
        "ARCHIVE_FNAME = URL_LIST_FNAME.replace(\".txt\", \".zip\")\n",
        "EMBEDDING_FNAME = EMBEDDING_FOLDER.replace(\"/\", \".zip\")\n",
        "INDEX_FNAME = INDEX_FOLDER.replace(\"/\", \".zip\")\n",
        "RESULT_FNAME = RESULT_FOLDER.replace(\"/\", \".zip\")"
      ],
      "metadata": {
        "id": "AsKcdVHUHLa_"
      },
      "execution_count": null,
      "outputs": []
    },
    {
      "cell_type": "code",
      "source": [
        "def load_normalized_urls():\n",
        "  with open(URL_LIST_FNAME) as f:\n",
        "    return [l.strip().split(\"?\")[0] for l in f.readlines()]"
      ],
      "metadata": {
        "id": "OdMeJMXDite_"
      },
      "execution_count": null,
      "outputs": []
    },
    {
      "cell_type": "code",
      "source": [
        "import mediapy as media\n",
        "\n",
        "DISPLAY_SIZE = (128,128)\n",
        "\n",
        "def get_member_id(url_index, fname = None, verbose=True):\n",
        "  lines = load_normalized_urls()\n",
        "\n",
        "  url_index = int(url_index)\n",
        "  url = lines[url_index]\n",
        "  member_id = url.split(\"/\")[-2]\n",
        "\n",
        "  if verbose:\n",
        "    print(f\"URL index: {url_index:>5} -> member ID: {member_id} -> {url}\")\n",
        "\n",
        "  if fname:\n",
        "    media.show_image(\n",
        "        media.resize_image(\n",
        "            media.read_image(fname),\n",
        "            shape=DISPLAY_SIZE,\n",
        "            ),\n",
        "        )\n",
        "\n",
        "  return member_id"
      ],
      "metadata": {
        "id": "SlFybOjKikU0"
      },
      "execution_count": null,
      "outputs": []
    },
    {
      "cell_type": "markdown",
      "source": [
        "## Import text data"
      ],
      "metadata": {
        "id": "2x-TZFyBrPY7"
      }
    },
    {
      "cell_type": "code",
      "source": [
        "!curl -OL https://github.com/woctezuma/discord-members-metadata/releases/download/imgv2/{URL_LIST_FNAME}"
      ],
      "metadata": {
        "id": "iZXLyhLnqeAQ"
      },
      "execution_count": null,
      "outputs": []
    },
    {
      "cell_type": "code",
      "source": [
        "suffix = f\"?size={IMAGE_SIZE}\"\n",
        "\n",
        "lines = load_normalized_urls()\n",
        "\n",
        "with open(URL_LIST_FNAME, \"w\") as f:\n",
        "  edited_lines = [f\"{l}{suffix}\" for l in lines]\n",
        "  f.write(\"\\n\".join(edited_lines))"
      ],
      "metadata": {
        "id": "sAyfFa5RuEUm"
      },
      "execution_count": null,
      "outputs": []
    },
    {
      "cell_type": "markdown",
      "source": [
        "## Download images from scratch"
      ],
      "metadata": {
        "id": "dEdQxRfhrRS8"
      }
    },
    {
      "cell_type": "code",
      "source": [
        "download_images_from_scratch = False"
      ],
      "metadata": {
        "id": "ydLlfmV8SYCn"
      },
      "execution_count": null,
      "outputs": []
    },
    {
      "cell_type": "code",
      "source": [
        "if download_images_from_scratch:\n",
        "  %pip install -qq img2dataset"
      ],
      "metadata": {
        "id": "Q6t3Xuo_R34E"
      },
      "execution_count": null,
      "outputs": []
    },
    {
      "cell_type": "code",
      "source": [
        "if download_images_from_scratch:\n",
        "  !img2dataset \\\n",
        "  --url_list={URL_LIST_FNAME} \\\n",
        "  --image_size={IMAGE_SIZE} \\\n",
        "  --resize_mode=keep_ratio \\\n",
        "  --disallowed_header_directives '[]'\n",
        "\n",
        "!du -sh {IMAGE_FOLDER}"
      ],
      "metadata": {
        "id": "SEmNSs27_3BT"
      },
      "execution_count": null,
      "outputs": []
    },
    {
      "cell_type": "code",
      "source": [
        "if download_images_from_scratch:\n",
        "  !zip -q -r img_1.zip {IMAGE_FOLDER}00000 {IMAGE_FOLDER}00001\n",
        "  !zip -q -r img_2.zip {IMAGE_FOLDER}00002 {IMAGE_FOLDER}00003\n",
        "  !zip -q -r img_3.zip {IMAGE_FOLDER}00004 {IMAGE_FOLDER}00005\n",
        "  !zip -q img_stats.zip {IMAGE_FOLDER}*.parquet {IMAGE_FOLDER}*.json\n",
        "\n",
        "!du -sh img_*.zip"
      ],
      "metadata": {
        "id": "dVmtLVD3SaaF"
      },
      "execution_count": null,
      "outputs": []
    },
    {
      "cell_type": "markdown",
      "source": [
        "## Import image data"
      ],
      "metadata": {
        "id": "kYfwUprUGxGr"
      }
    },
    {
      "cell_type": "code",
      "source": [
        "for i in [1, 2, 3, \"stats\"]:\n",
        "  fname = f\"img_{i}.zip\"\n",
        "\n",
        "  !curl -OL https://github.com/woctezuma/discord-members-metadata/releases/download/imgv2/{fname}\n",
        "  !unzip -qq {fname}"
      ],
      "metadata": {
        "id": "QKCCBISSG0Qn"
      },
      "execution_count": null,
      "outputs": []
    },
    {
      "cell_type": "markdown",
      "source": [
        "## Analyze images\n",
        "\n",
        "Reference:\n",
        "- https://github.com/rom1504/clip-retrieval"
      ],
      "metadata": {
        "id": "jPvt6RqtS3I-"
      }
    },
    {
      "cell_type": "markdown",
      "source": [
        "### Prepare once"
      ],
      "metadata": {
        "id": "-4G6W27uZvBF"
      }
    },
    {
      "cell_type": "code",
      "source": [
        "!clip-retrieval inference \\\n",
        " --input_dataset {IMAGE_FOLDER} \\\n",
        " --output_folder {EMBEDDING_FOLDER}\n",
        "\n",
        "!zip -q -r {EMBEDDING_FNAME} {EMBEDDING_FOLDER}"
      ],
      "metadata": {
        "id": "3WPUp3_CTt7n"
      },
      "execution_count": null,
      "outputs": []
    },
    {
      "cell_type": "code",
      "source": [
        "!clip-retrieval index \\\n",
        " --embeddings_folder {EMBEDDING_FOLDER} \\\n",
        " --index_folder {INDEX_FOLDER}\n",
        "\n",
        "!zip -q -r {INDEX_FNAME} {INDEX_FOLDER}"
      ],
      "metadata": {
        "id": "xpWHdz6iVQSz"
      },
      "execution_count": null,
      "outputs": []
    },
    {
      "cell_type": "markdown",
      "source": [
        "### Process a text query"
      ],
      "metadata": {
        "id": "8-SWItbrZxjv"
      }
    },
    {
      "cell_type": "code",
      "source": [
        "# Either a local image:\n",
        "QUERY = \"images/00000/000009695.jpg\"\n",
        "# Or a text:\n",
        "QUERY = \"sexist\"\n",
        "\n",
        "%rm -rf {RESULT_FOLDER}\n",
        "\n",
        "!clip-retrieval filter \\\n",
        " --indice_folder {INDEX_FOLDER} \\\n",
        " --query {QUERY} \\\n",
        " --output_folder {RESULT_FOLDER}"
      ],
      "metadata": {
        "id": "pprgbbzKVrfZ"
      },
      "execution_count": null,
      "outputs": []
    },
    {
      "cell_type": "code",
      "source": [
        "import glob\n",
        "\n",
        "for fname in sorted(glob.glob(f\"{RESULT_FOLDER}/*{FILE_EXT}\")):\n",
        "  url_index = fname.removeprefix(RESULT_FOLDER).removesuffix(FILE_EXT)\n",
        "  member_id = get_member_id(url_index, fname)"
      ],
      "metadata": {
        "id": "uvRMp8wva2Xy"
      },
      "execution_count": null,
      "outputs": []
    }
  ]
}