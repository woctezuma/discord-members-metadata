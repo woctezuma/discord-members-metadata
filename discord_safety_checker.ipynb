{
  "nbformat": 4,
  "nbformat_minor": 0,
  "metadata": {
    "colab": {
      "private_outputs": true,
      "provenance": [],
      "collapsed_sections": [
        "AOetn6xSNb68",
        "RMgR2SgkNmDC",
        "izHCcUs0eIoJ",
        "eZTDk2I9KMVA"
      ],
      "gpuType": "T4"
    },
    "kernelspec": {
      "name": "python3",
      "display_name": "Python 3"
    },
    "language_info": {
      "name": "python"
    },
    "accelerator": "GPU"
  },
  "cells": [
    {
      "cell_type": "markdown",
      "source": [
        "# Filter inappropriate content\n",
        "\n",
        "- https://github.com/woctezuma/discord-members-metadata"
      ],
      "metadata": {
        "id": "QAF5wev8M7fk"
      }
    },
    {
      "cell_type": "markdown",
      "source": [
        "## Install packages"
      ],
      "metadata": {
        "id": "AOetn6xSNb68"
      }
    },
    {
      "cell_type": "code",
      "source": [
        "%pip install --quiet transformers mediapy"
      ],
      "metadata": {
        "id": "hydcX-K-FVhW"
      },
      "execution_count": null,
      "outputs": []
    },
    {
      "cell_type": "markdown",
      "source": [
        "## Download the image dataset"
      ],
      "metadata": {
        "id": "RMgR2SgkNmDC"
      }
    },
    {
      "cell_type": "code",
      "source": [
        "%cd /content\n",
        "\n",
        "for i in range(1, 3):\n",
        "  fname = f\"img_{i}.zip\"\n",
        "\n",
        "  !curl -OL https://github.com/woctezuma/discord-members-metadata/releases/download/img/{fname}\n",
        "  !unzip -qq {fname}"
      ],
      "metadata": {
        "id": "SL7A0j_WNhnm"
      },
      "execution_count": null,
      "outputs": []
    },
    {
      "cell_type": "markdown",
      "source": [
        "## Download the text datasets"
      ],
      "metadata": {
        "id": "izHCcUs0eIoJ"
      }
    },
    {
      "cell_type": "code",
      "source": [
        "%cd /content\n",
        "\n",
        "!curl -OL https://github.com/woctezuma/discord-members-metadata/releases/download/bio/bios.json\n",
        "!curl -OL https://github.com/woctezuma/discord-members-metadata/releases/download/metadata/members.json"
      ],
      "metadata": {
        "id": "MTW4Yo7keMXJ"
      },
      "execution_count": null,
      "outputs": []
    },
    {
      "cell_type": "markdown",
      "source": [
        "## Define utils"
      ],
      "metadata": {
        "id": "eZTDk2I9KMVA"
      }
    },
    {
      "cell_type": "code",
      "source": [
        "import json\n",
        "\n",
        "from pathlib import Path\n",
        "\n",
        "def save_to_json(data, fname):\n",
        "  with Path(fname).open('w') as f:\n",
        "    json.dump(data, f, indent=True)\n",
        "\n",
        "def load_from_json(fname):\n",
        "  with Path(fname).open() as f:\n",
        "    data = json.load(f)\n",
        "  return data\n",
        "\n",
        "def safe_load_from_json(fname):\n",
        "  try:\n",
        "    data = load_from_json(fname)\n",
        "  except FileNotFoundError:\n",
        "    data = {}\n",
        "  return data"
      ],
      "metadata": {
        "id": "h-CfckeOKOJM"
      },
      "execution_count": null,
      "outputs": []
    },
    {
      "cell_type": "code",
      "source": [
        "from pathlib import Path\n",
        "\n",
        "def get_member_id(image_path):\n",
        "  return Path(image_path).stem"
      ],
      "metadata": {
        "id": "DlczHCyo1FuC"
      },
      "execution_count": null,
      "outputs": []
    },
    {
      "cell_type": "code",
      "source": [
        "def get_output_fname(pipe):\n",
        "  return pipe.model.name_or_path.replace('/', '_') + '.json'"
      ],
      "metadata": {
        "id": "F7tpp7ZLesfY"
      },
      "execution_count": null,
      "outputs": []
    },
    {
      "cell_type": "markdown",
      "source": [
        "## Classify images"
      ],
      "metadata": {
        "id": "eEUVaQ5eNpop"
      }
    },
    {
      "cell_type": "markdown",
      "source": [
        "Dataset"
      ],
      "metadata": {
        "id": "JFfWqVrtAhNT"
      }
    },
    {
      "cell_type": "code",
      "source": [
        "from glob import glob\n",
        "from torch.utils.data import Dataset\n",
        "\n",
        "FILE_PATHS = glob('img/*/*.jpg')\n",
        "\n",
        "class MyDataset(Dataset):\n",
        "    def __len__(self):\n",
        "        return len(FILE_PATHS)\n",
        "\n",
        "    def __getitem__(self, i):\n",
        "        return FILE_PATHS[i]\n",
        "\n",
        "dataset = MyDataset()"
      ],
      "metadata": {
        "id": "2eIyVJS0xTo4"
      },
      "execution_count": null,
      "outputs": []
    },
    {
      "cell_type": "markdown",
      "source": [
        "Data loader"
      ],
      "metadata": {
        "id": "rtIgqoOMAiss"
      }
    },
    {
      "cell_type": "code",
      "source": [
        "from torch.utils.data import DataLoader\n",
        "\n",
        "# The batch size was optimized to get the fastest output.\n",
        "# However, I have changed from using the batch size with the pipeline, to using\n",
        "# the batch size with the data loader, due to ValueError, so this might have had\n",
        "# an impact on the optimal batch size.\n",
        "# Reference: https://huggingface.co/docs/transformers/main_classes/pipelines\n",
        "loader = DataLoader(dataset, batch_size = 8)"
      ],
      "metadata": {
        "id": "SVGdjWDpAI31"
      },
      "execution_count": null,
      "outputs": []
    },
    {
      "cell_type": "markdown",
      "source": [
        "Pipeline"
      ],
      "metadata": {
        "id": "UnyQ_Yk1AfdQ"
      }
    },
    {
      "cell_type": "code",
      "source": [
        "from transformers import pipeline\n",
        "\n",
        "# https://huggingface.co/Falconsai/nsfw_image_detection\n",
        "pipe = pipeline(\"image-classification\",\n",
        "                model=\"Falconsai/nsfw_image_detection\",\n",
        "                device=\"cuda\")"
      ],
      "metadata": {
        "id": "FsKH49q-NYca"
      },
      "execution_count": null,
      "outputs": []
    },
    {
      "cell_type": "markdown",
      "source": [
        "Apply the workflow"
      ],
      "metadata": {
        "id": "0ZC14qPsAoZt"
      }
    },
    {
      "cell_type": "code",
      "source": [
        "from contextlib import suppress\n",
        "from tqdm.auto import tqdm\n",
        "\n",
        "processed_image_paths = []\n",
        "safety_scores = []\n",
        "\n",
        "# For my use case, this cell required ~ 25 minutes.\n",
        "\n",
        "for image_paths in tqdm(loader):\n",
        "  try:\n",
        "    out = pipe(image_paths)\n",
        "  except ValueError:\n",
        "    out = []\n",
        "\n",
        "  if out:\n",
        "    processed_image_paths += image_paths\n",
        "\n",
        "    for dd in out:\n",
        "      safety_scores += [ d[\"score\"] for d in dd\n",
        "                        if d[\"label\"] in [\"safe\", \"normal\"] ]"
      ],
      "metadata": {
        "id": "lci9uvzyivKc"
      },
      "execution_count": null,
      "outputs": []
    },
    {
      "cell_type": "markdown",
      "source": [
        "Collate the IDs with the scores. At the same time, display the worst offenders."
      ],
      "metadata": {
        "id": "gOEU-e1WAsh9"
      }
    },
    {
      "cell_type": "code",
      "source": [
        "import mediapy as media\n",
        "\n",
        "safety_score_threshold = 0.005\n",
        "img_size = (128, 128)\n",
        "\n",
        "aggregate = {}\n",
        "for image_path, safety_score in sorted(\n",
        "    zip(processed_image_paths, safety_scores),\n",
        "    key=lambda x: x[1]):\n",
        "  member_id = get_member_id(image_path)\n",
        "\n",
        "  aggregate[member_id] = safety_score\n",
        "\n",
        "  if safety_score < safety_score_threshold:\n",
        "    image = media.read_image(image_path)\n",
        "    image = media.resize_image(image, img_size)\n",
        "\n",
        "    print(f\"{member_id} {safety_score:.2}\")\n",
        "    media.show_image(image)\n",
        "\n",
        "save_to_json(aggregate,\n",
        "             get_output_fname(pipe))"
      ],
      "metadata": {
        "id": "7-8R275U0FkS"
      },
      "execution_count": null,
      "outputs": []
    },
    {
      "cell_type": "markdown",
      "source": [
        "## Classify texts\n",
        "\n",
        "TODO"
      ],
      "metadata": {
        "id": "OOTXQzKkA8pz"
      }
    }
  ]
}